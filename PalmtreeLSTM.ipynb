{
  "nbformat": 4,
  "nbformat_minor": 0,
  "metadata": {
    "colab": {
      "provenance": [],
      "gpuType": "T4"
    },
    "kernelspec": {
      "name": "python3",
      "display_name": "Python 3"
    },
    "language_info": {
      "name": "python"
    },
    "accelerator": "GPU"
  },
  "cells": [
    {
      "cell_type": "markdown",
      "source": [
        "# TRANSFORMER ARCHITECTURE FOR INLINED FUNCTION INSTRUCTION IDENTIFICATION"
      ],
      "metadata": {
        "id": "E_Mq7TeiqoE_"
      }
    },
    {
      "cell_type": "markdown",
      "source": [
        "## Step 1: load Palmtree embedding"
      ],
      "metadata": {
        "id": "RW_Gc7pZrOuf"
      }
    },
    {
      "cell_type": "markdown",
      "source": [
        "Connect to GDrive to load [pre-trained PalmTree model](https://github.com/palmtreemodel/PalmTree/tree/master/pre-trained_model)"
      ],
      "metadata": {
        "id": "ZPff-OsVvGEe"
      }
    },
    {
      "cell_type": "code",
      "execution_count": 2,
      "metadata": {
        "colab": {
          "base_uri": "https://localhost:8080/"
        },
        "id": "GUwnhnUnkE_x",
        "outputId": "ae4b3f87-a0a2-4f4d-9a04-b9e91db8a416"
      },
      "outputs": [
        {
          "output_type": "stream",
          "name": "stdout",
          "text": [
            "Drive already mounted at /content/gdrive; to attempt to forcibly remount, call drive.mount(\"/content/gdrive\", force_remount=True).\n"
          ]
        }
      ],
      "source": [
        "from google.colab import drive\n",
        "import os\n",
        "drive.mount('/content/gdrive')\n",
        "os.chdir(\"gdrive/MyDrive/Tesi/Palmtree\")\n"
      ]
    },
    {
      "cell_type": "markdown",
      "source": [
        "Install  bert-pytorch"
      ],
      "metadata": {
        "id": "BcabXMRFrkdt"
      }
    },
    {
      "cell_type": "code",
      "source": [
        "!pip install bert-pytorch"
      ],
      "metadata": {
        "colab": {
          "base_uri": "https://localhost:8080/"
        },
        "id": "HFTgjDg5rju-",
        "outputId": "11a81151-5a58-468b-fcba-3539d3cdec71"
      },
      "execution_count": 4,
      "outputs": [
        {
          "output_type": "stream",
          "name": "stdout",
          "text": [
            "Requirement already satisfied: bert-pytorch in /usr/local/lib/python3.10/dist-packages (0.0.1a4)\n",
            "Requirement already satisfied: numpy in /usr/local/lib/python3.10/dist-packages (from bert-pytorch) (1.23.5)\n",
            "Requirement already satisfied: torch>=0.4.0 in /usr/local/lib/python3.10/dist-packages (from bert-pytorch) (2.1.0+cu118)\n",
            "Requirement already satisfied: tqdm in /usr/local/lib/python3.10/dist-packages (from bert-pytorch) (4.66.1)\n",
            "Requirement already satisfied: filelock in /usr/local/lib/python3.10/dist-packages (from torch>=0.4.0->bert-pytorch) (3.12.4)\n",
            "Requirement already satisfied: typing-extensions in /usr/local/lib/python3.10/dist-packages (from torch>=0.4.0->bert-pytorch) (4.5.0)\n",
            "Requirement already satisfied: sympy in /usr/local/lib/python3.10/dist-packages (from torch>=0.4.0->bert-pytorch) (1.12)\n",
            "Requirement already satisfied: networkx in /usr/local/lib/python3.10/dist-packages (from torch>=0.4.0->bert-pytorch) (3.2)\n",
            "Requirement already satisfied: jinja2 in /usr/local/lib/python3.10/dist-packages (from torch>=0.4.0->bert-pytorch) (3.1.2)\n",
            "Requirement already satisfied: fsspec in /usr/local/lib/python3.10/dist-packages (from torch>=0.4.0->bert-pytorch) (2023.6.0)\n",
            "Requirement already satisfied: triton==2.1.0 in /usr/local/lib/python3.10/dist-packages (from torch>=0.4.0->bert-pytorch) (2.1.0)\n",
            "Requirement already satisfied: MarkupSafe>=2.0 in /usr/local/lib/python3.10/dist-packages (from jinja2->torch>=0.4.0->bert-pytorch) (2.1.3)\n",
            "Requirement already satisfied: mpmath>=0.19 in /usr/local/lib/python3.10/dist-packages (from sympy->torch>=0.4.0->bert-pytorch) (1.3.0)\n"
          ]
        }
      ]
    },
    {
      "cell_type": "markdown",
      "source": [
        "import dependencies"
      ],
      "metadata": {
        "id": "9wh2pFHYr0Gw"
      }
    },
    {
      "cell_type": "code",
      "source": [
        "import os\n",
        "from config import *\n",
        "from torch import nn\n",
        "from scipy.ndimage.filters import gaussian_filter1d\n",
        "from torch.autograd import Variable\n",
        "import torch\n",
        "import numpy as np\n",
        "import eval_utils as utils"
      ],
      "metadata": {
        "colab": {
          "base_uri": "https://localhost:8080/"
        },
        "id": "rjaS9s5jke2c",
        "outputId": "f159b5d2-ef24-4334-8e10-acde39bbd42d"
      },
      "execution_count": 8,
      "outputs": [
        {
          "output_type": "stream",
          "name": "stderr",
          "text": [
            "<ipython-input-8-9ba5be37f703>:4: DeprecationWarning: Please use `gaussian_filter1d` from the `scipy.ndimage` namespace, the `scipy.ndimage.filters` namespace is deprecated.\n",
            "  from scipy.ndimage.filters import gaussian_filter1d\n"
          ]
        }
      ]
    },
    {
      "cell_type": "markdown",
      "source": [
        "Copy the how2use code and test if it runs\n",
        "\n",
        "**NOTE:** might require GPU environment\n"
      ],
      "metadata": {
        "id": "b7pgf3rxslG7"
      }
    },
    {
      "cell_type": "code",
      "source": [
        "palmtree = utils.UsableTransformer(model_path=\"./palmtree/transformer.ep19\", vocab_path=\"./palmtree/vocab\")\n",
        "\n",
        "# tokens has to be seperated by spaces.\n",
        "\n",
        "text = [\"mov rbp rdi\",\n",
        "        \"mov ebx 0x1\",\n",
        "        \"mov rdx rbx\",\n",
        "        \"call memcpy\",\n",
        "        \"mov [ rcx + rbx ] 0x0\",\n",
        "        \"mov rcx rax\",\n",
        "        \"mov [ rax ] 0x2e\"]\n",
        "\n",
        "# it is better to make batches as large as possible.\n",
        "embeddings = palmtree.encode(text)\n",
        "print(\"usable embedding of this basicblock:\", embeddings)\n",
        "print(\"the shape of output tensor: \", embeddings.shape)"
      ],
      "metadata": {
        "id": "2YEmbT9Jqsss"
      },
      "execution_count": null,
      "outputs": []
    }
  ]
}